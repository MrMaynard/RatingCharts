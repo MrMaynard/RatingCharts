{
 "cells": [
  {
   "cell_type": "code",
   "execution_count": 11,
   "metadata": {},
   "outputs": [],
   "source": [
    "from Imdb import Imdb\n",
    "\n",
    "\n",
    "from plotly import __version__\n",
    "import plotly.graph_objs as go\n",
    "from plotly.offline import download_plotlyjs, init_notebook_mode, plot, iplot\n",
    "import plotly.plotly as py"
   ]
  },
  {
   "cell_type": "code",
   "execution_count": 12,
   "metadata": {},
   "outputs": [],
   "source": [
    "foo = 'bar'"
   ]
  },
  {
   "cell_type": "code",
   "execution_count": 13,
   "metadata": {},
   "outputs": [],
   "source": [
    "def main():\n",
    "    init_notebook_mode(connected=True)\n",
    "    imdb = Imdb()\n",
    "\n",
    "    title = input(\"title>\").strip()\n",
    "    print(title)\n",
    "    id = imdb.title2Id(title)\n",
    "    episodes = imdb.id2Episodes(id)\n",
    "\n",
    "    episodes = sorted(episodes)\n",
    "    print(episodes)\n",
    "\n",
    "    xValues = []\n",
    "    yValues = []\n",
    "    for i, episode in enumerate(episodes):\n",
    "        xValues.append(i)\n",
    "        yValues.append(float(episode.rating.strip()))\n",
    "\n",
    "\n",
    "    trace = go.Scatter(x=xValues, y=yValues, mode = 'markers')\n",
    "    data = [trace]\n",
    "    layout = go.Layout(\n",
    "        title=title,\n",
    "\n",
    "        xaxis=dict(\n",
    "            title='Episode',\n",
    "            titlefont=dict(\n",
    "                family='Courier New, monospace',\n",
    "                size=18,\n",
    "                color='#7f7f7f'\n",
    "            )\n",
    "        ),\n",
    "        yaxis=dict(\n",
    "            title='Score',\n",
    "            titlefont=dict(\n",
    "                family='Courier New, monospace',\n",
    "                size=18,\n",
    "                color='#7f7f7f'\n",
    "            )\n",
    "        )\n",
    "    )\n",
    "    fig = go.Figure(data=data, layout=layout)\n",
    "    print(foo)\n",
    "    iplot(fig)"
   ]
  },
  {
   "cell_type": "code",
   "execution_count": 14,
   "metadata": {},
   "outputs": [
    {
     "data": {
      "text/html": [
       "<script>requirejs.config({paths: { 'plotly': ['https://cdn.plot.ly/plotly-latest.min']},});if(!window.Plotly) {{require(['plotly'],function(plotly) {window.Plotly=plotly;});}}</script>"
      ],
      "text/vnd.plotly.v1+html": [
       "<script>requirejs.config({paths: { 'plotly': ['https://cdn.plot.ly/plotly-latest.min']},});if(!window.Plotly) {{require(['plotly'],function(plotly) {window.Plotly=plotly;});}}</script>"
      ]
     },
     "metadata": {},
     "output_type": "display_data"
    },
    {
     "name": "stdout",
     "output_type": "stream",
     "text": [
      "title>bee and puppycat\n",
      "bee and puppycat\n",
      "Reading HTML from: http://www.imdb.com/find?ref_=nv_sr_fn&q=bee%20and%20puppycat&s=all\n",
      "I think the ID is /title/tt4163486/\n",
      "Reading HTML from: http://www.imdb.com/title/tt4163486/episodes?season=1\n",
      "Reading HTML from: http://www.imdb.com/title/tt4163486/episodes?season=2\n",
      "[{'id': '/title/tt2782722/', 'number': 0, 'rating': '8.6', 'title': 'Bee and Puppycat', 'season': 1}, {'id': '/title/tt4178336/', 'number': 1, 'rating': '7.4', 'title': 'Food', 'season': 1}, {'id': '/title/tt4178352/', 'number': 2, 'rating': '7.8', 'title': 'Farmer', 'season': 1}, {'id': '/title/tt4196858/', 'number': 3, 'rating': '7.6', 'title': 'Beach', 'season': 1}, {'id': '/title/tt4196860/', 'number': 4, 'rating': '7.7', 'title': 'Cats', 'season': 1}, {'id': '/title/tt6344628/', 'number': 5, 'rating': '8.7', 'title': 'Birthday', 'season': 1}, {'id': '/title/tt6344634/', 'number': 6, 'rating': '8.4', 'title': 'Game', 'season': 1}, {'id': '/title/tt6344636/', 'number': 7, 'rating': '8.9', 'title': 'Toast', 'season': 1}, {'id': '/title/tt6344638/', 'number': 8, 'rating': '9.2', 'title': 'Dogs', 'season': 1}, {'id': '/title/tt6344642/', 'number': 9, 'rating': '9.3', 'title': 'Wedding', 'season': 1}, {'id': '/title/tt6344646/', 'number': 10, 'rating': '9.7', 'title': 'Donut', 'season': 1}]\n",
      "bar\n"
     ]
    },
    {
     "data": {
      "application/vnd.plotly.v1+json": {
       "data": [
        {
         "mode": "markers",
         "type": "scatter",
         "uid": "dd3f9ae6-8cfe-11e8-8740-4ccc6a62a3d4",
         "x": [
          0,
          1,
          2,
          3,
          4,
          5,
          6,
          7,
          8,
          9,
          10
         ],
         "y": [
          8.6,
          7.4,
          7.8,
          7.6,
          7.7,
          8.7,
          8.4,
          8.9,
          9.2,
          9.3,
          9.7
         ]
        }
       ],
       "layout": {
        "title": "bee and puppycat",
        "xaxis": {
         "title": "Episode",
         "titlefont": {
          "color": "#7f7f7f",
          "family": "Courier New, monospace",
          "size": 18
         }
        },
        "yaxis": {
         "title": "Score",
         "titlefont": {
          "color": "#7f7f7f",
          "family": "Courier New, monospace",
          "size": 18
         }
        }
       }
      },
      "text/html": [
       "<div id=\"1ef05796-f8f2-4ab9-aca5-105be60e602f\" style=\"height: 525px; width: 100%;\" class=\"plotly-graph-div\"></div><script type=\"text/javascript\">require([\"plotly\"], function(Plotly) { window.PLOTLYENV=window.PLOTLYENV || {};window.PLOTLYENV.BASE_URL=\"https://plot.ly\";\n",
       "        Plotly.plot(\n",
       "            '1ef05796-f8f2-4ab9-aca5-105be60e602f',\n",
       "            [{\"y\": [8.6, 7.4, 7.8, 7.6, 7.7, 8.7, 8.4, 8.9, 9.2, 9.3, 9.7], \"uid\": \"dd3f9ae6-8cfe-11e8-8740-4ccc6a62a3d4\", \"type\": \"scatter\", \"x\": [0, 1, 2, 3, 4, 5, 6, 7, 8, 9, 10], \"mode\": \"markers\"}],\n",
       "            {\"xaxis\": {\"title\": \"Episode\", \"titlefont\": {\"color\": \"#7f7f7f\", \"family\": \"Courier New, monospace\", \"size\": 18}}, \"title\": \"bee and puppycat\", \"yaxis\": {\"title\": \"Score\", \"titlefont\": {\"color\": \"#7f7f7f\", \"family\": \"Courier New, monospace\", \"size\": 18}}},\n",
       "            {\"linkText\": \"Export to plot.ly\", \"showLink\": true}\n",
       "        ).then(function () {return Plotly.addFrames('1ef05796-f8f2-4ab9-aca5-105be60e602f',{});}).then(function(){Plotly.animate('1ef05796-f8f2-4ab9-aca5-105be60e602f');})\n",
       "        });</script>"
      ],
      "text/vnd.plotly.v1+html": [
       "<div id=\"1ef05796-f8f2-4ab9-aca5-105be60e602f\" style=\"height: 525px; width: 100%;\" class=\"plotly-graph-div\"></div><script type=\"text/javascript\">require([\"plotly\"], function(Plotly) { window.PLOTLYENV=window.PLOTLYENV || {};window.PLOTLYENV.BASE_URL=\"https://plot.ly\";\n",
       "        Plotly.plot(\n",
       "            '1ef05796-f8f2-4ab9-aca5-105be60e602f',\n",
       "            [{\"y\": [8.6, 7.4, 7.8, 7.6, 7.7, 8.7, 8.4, 8.9, 9.2, 9.3, 9.7], \"uid\": \"dd3f9ae6-8cfe-11e8-8740-4ccc6a62a3d4\", \"type\": \"scatter\", \"x\": [0, 1, 2, 3, 4, 5, 6, 7, 8, 9, 10], \"mode\": \"markers\"}],\n",
       "            {\"xaxis\": {\"title\": \"Episode\", \"titlefont\": {\"color\": \"#7f7f7f\", \"family\": \"Courier New, monospace\", \"size\": 18}}, \"title\": \"bee and puppycat\", \"yaxis\": {\"title\": \"Score\", \"titlefont\": {\"color\": \"#7f7f7f\", \"family\": \"Courier New, monospace\", \"size\": 18}}},\n",
       "            {\"linkText\": \"Export to plot.ly\", \"showLink\": true}\n",
       "        ).then(function () {return Plotly.addFrames('1ef05796-f8f2-4ab9-aca5-105be60e602f',{});}).then(function(){Plotly.animate('1ef05796-f8f2-4ab9-aca5-105be60e602f');})\n",
       "        });</script>"
      ]
     },
     "metadata": {},
     "output_type": "display_data"
    }
   ],
   "source": [
    "if __name__ == \"__main__\":\n",
    "    main()"
   ]
  },
  {
   "cell_type": "code",
   "execution_count": null,
   "metadata": {},
   "outputs": [],
   "source": []
  }
 ],
 "metadata": {
  "kernelspec": {
   "display_name": "Python 3",
   "language": "python",
   "name": "python3"
  },
  "language_info": {
   "codemirror_mode": {
    "name": "ipython",
    "version": 3
   },
   "file_extension": ".py",
   "mimetype": "text/x-python",
   "name": "python",
   "nbconvert_exporter": "python",
   "pygments_lexer": "ipython3",
   "version": "3.5.2"
  }
 },
 "nbformat": 4,
 "nbformat_minor": 2
}
